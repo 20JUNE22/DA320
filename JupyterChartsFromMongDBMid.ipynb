{
 "cells": [
  {
   "cell_type": "markdown",
   "metadata": {},
   "source": [
    "# DA 320"
   ]
  },
  {
   "cell_type": "markdown",
   "metadata": {},
   "source": [
    "| Key | Value |\n",
    "|:------------- |:-------------|\n",
    "| Assignment | Midterm - Jupyter Charts with MongoDB |\n",
    "| Author | Junguk Park |\n",
    "| Date | 2022-05-22 |\n"
   ]
  },
  {
   "cell_type": "markdown",
   "metadata": {},
   "source": [
    "> ## Introduction\n",
    "> - Datasets : imdb from Mongodb\n",
    "> - Datasets contain informations about hero movies (title, release year, rating, budget, and etc.)\n",
    "> - Rander some charts about movie rating trend, release month, budget, and gross sales.\n",
    "> - Analyze data on factors that contributed to the success of the hero movie.\n",
    "> - The factors that affected the movie's overall sales and net profit are analyzed.\n",
    "> - Analyze both key trends between columns and outliers."
   ]
  },
  {
   "cell_type": "markdown",
   "metadata": {},
   "source": [
    "Create a file called \"credentials.json\" file. It should contain the following text"
   ]
  },
  {
   "cell_type": "code",
   "execution_count": 23,
   "metadata": {},
   "outputs": [],
   "source": [
    "# %%writefile ./credentials.json\n",
    "# {\n",
    "#     \"username\":\"<ID>\",\n",
    "#     \"password\":\"<PASSWORD>\",\n",
    "#     \"mongodb\":\"mongodb+srv://<ID>:<PASSWORD>@cluster0.bomxf.mongodb.net/test\"\n",
    "# }"
   ]
  },
  {
   "cell_type": "code",
   "execution_count": 24,
   "metadata": {},
   "outputs": [],
   "source": [
    "import pandas as pd\n",
    "import numpy as np\n",
    "import seaborn as sns\n",
    "import matplotlib as plt\n",
    "import json\n",
    "\n",
    "mongo_conn_str = \"\"\n",
    "\n",
    "with open('./credentials.json') as f:\n",
    "    data = json.load(f)\n",
    "    mongo_conn_str = data['mongodb']"
   ]
  },
  {
   "cell_type": "markdown",
   "metadata": {},
   "source": [
    "> In order to use the Mongodb connection string start with `mongodb+srv://` following python library need to be installed.\n",
    ">\n",
    ">    ```bash\n",
    ">    pip install pymongo[srv]\n",
    ">    ```"
   ]
  },
  {
   "cell_type": "markdown",
   "metadata": {},
   "source": [
    "> In order to run server level command, i.e. `serverStatus`, the user need to have `@admin` role. And this role is given to a user for this test."
   ]
  },
  {
   "cell_type": "code",
   "execution_count": 25,
   "metadata": {
    "scrolled": true
   },
   "outputs": [
    {
     "name": "stdout",
     "output_type": "stream",
     "text": [
      "{'host': 'cluster0-shard-00-02.bomxf.mongodb.net:27017', 'version': '5.0.8', 'process': 'mongod', 'pid': 1663, 'uptime': 19933.0, 'uptimeMillis': 19932523, 'uptimeEstimate': 19932, 'localTime': datetime.datetime(2022, 5, 23, 4, 7, 47, 347000), 'asserts': {'regular': 0, 'warning': 0, 'msg': 0, 'user': 0, 'rollovers': 0}, 'connections': {'current': 6, 'available': 494, 'totalCreated': 36}, 'extra_info': {'note': 'fields vary by platform', 'page_faults': 0}, 'network': {'bytesIn': 266681, 'bytesOut': 8822284, 'numRequests': 3530}, 'opcounters': {'insert': 0, 'query': 6, 'update': 0, 'delete': 0, 'getmore': 4, 'command': 3520, 'deprecated': {'query': 0, 'getmore': 0}}, 'opcountersRepl': {'insert': 0, 'query': 0, 'update': 0, 'delete': 0, 'getmore': 0, 'command': 0, 'deprecated': {'query': 0, 'getmore': 0}}, 'repl': {'topologyVersion': {'processId': ObjectId('628abab6813b07442f336d16'), 'counter': 6}, 'hosts': ['cluster0-shard-00-00.bomxf.mongodb.net:27017', 'cluster0-shard-00-01.bomxf.mongodb.net:27017', 'cluster0-shard-00-02.bomxf.mongodb.net:27017'], 'setName': 'atlas-cs5fu1-shard-0', 'setVersion': 8, 'isWritablePrimary': True, 'secondary': False, 'primary': 'cluster0-shard-00-02.bomxf.mongodb.net:27017', 'tags': {'workloadType': 'OPERATIONAL', 'nodeType': 'ELECTABLE', 'region': 'US_EAST_1', 'provider': 'AWS'}, 'me': 'cluster0-shard-00-02.bomxf.mongodb.net:27017', 'electionId': ObjectId('7fffffff00000000000000b2'), 'lastWrite': {'opTime': {'ts': Timestamp(1653278867, 8), 't': 178}, 'lastWriteDate': datetime.datetime(2022, 5, 23, 4, 7, 47), 'majorityOpTime': {'ts': Timestamp(1653278867, 8), 't': 178}, 'majorityWriteDate': datetime.datetime(2022, 5, 23, 4, 7, 47)}, 'primaryOnlyServices': {'TenantMigrationRecipientService': {'state': 'running', 'numInstances': 0}, 'TenantMigrationDonorService': {'state': 'running', 'numInstances': 0}}, 'rbid': 1}, 'storageEngine': {'name': 'wiredTiger', 'supportsCommittedReads': True, 'oldestRequiredTimestampForCrashRecovery': Timestamp(1653278853, 22), 'supportsPendingDrops': True, 'dropPendingIdents': 0, 'supportsSnapshotReadConcern': True, 'readOnly': False, 'persistent': True, 'backupCursorOpen': False, 'supportsResumableIndexBuilds': True}, 'mem': {'bits': 64, 'resident': 0, 'virtual': 0, 'supported': True, 'mapped': 0, 'mappedWithJournal': 0}, 'metrics': {'aggStageCounters': {'search': 0, 'searchBeta': 0, 'searchMeta': 0}, 'atlas': {'connectionPool': {'totalCreated': 8457}}}, 'ok': 1.0, '$clusterTime': {'clusterTime': Timestamp(1653278867, 8), 'signature': {'hash': b'\\x89\\xd5\\x17\\x91\\xe6\\xc9\\x1eA\\xe2\\xc0\\x94\\xf4\\xa0\\x1b\\x91j\\n\\xbf\\x81(', 'keyId': 7065736675304931333}}, 'operationTime': Timestamp(1653278867, 8), 'opLatencies': {'reads': {'latency': 61945, 'ops': 21}, 'writes': {'latency': 0, 'ops': 0}, 'commands': {'latency': 34177544823, 'ops': 3505}}, 'atlasVersion': {'version': '20220511.0.0.1651941186', 'gitVersion': 'd04c687b7a04f08eda45b834977198a935f42370'}}\n"
     ]
    }
   ],
   "source": [
    "import pymongo\n",
    "\n",
    "# connect to the database and verify it's working. \n",
    "client = pymongo.MongoClient(mongo_conn_str)\n",
    "db = client.movies\n",
    "serverStatusResult = db.command('serverStatus')\n",
    "print(serverStatusResult)\n",
    "\n",
    "imdb = db['imdb']"
   ]
  },
  {
   "cell_type": "code",
   "execution_count": 26,
   "metadata": {},
   "outputs": [
    {
     "data": {
      "text/html": [
       "<div>\n",
       "<style scoped>\n",
       "    .dataframe tbody tr th:only-of-type {\n",
       "        vertical-align: middle;\n",
       "    }\n",
       "\n",
       "    .dataframe tbody tr th {\n",
       "        vertical-align: top;\n",
       "    }\n",
       "\n",
       "    .dataframe thead th {\n",
       "        text-align: right;\n",
       "    }\n",
       "</style>\n",
       "<table border=\"1\" class=\"dataframe\">\n",
       "  <thead>\n",
       "    <tr style=\"text-align: right;\">\n",
       "      <th></th>\n",
       "      <th>_id</th>\n",
       "      <th>ID</th>\n",
       "      <th>Title</th>\n",
       "      <th>Runtime</th>\n",
       "      <th>Rating</th>\n",
       "      <th>Votes</th>\n",
       "      <th>MPAARating</th>\n",
       "      <th>ReleaseYear</th>\n",
       "      <th>ReleaseMonth</th>\n",
       "      <th>ReleaseDay</th>\n",
       "      <th>...</th>\n",
       "      <th>Producer5</th>\n",
       "      <th>Company1</th>\n",
       "      <th>Company2</th>\n",
       "      <th>Company3</th>\n",
       "      <th>Director2</th>\n",
       "      <th>Company4</th>\n",
       "      <th>Company5</th>\n",
       "      <th>Director3</th>\n",
       "      <th>Director4</th>\n",
       "      <th>Director5</th>\n",
       "    </tr>\n",
       "  </thead>\n",
       "  <tbody>\n",
       "    <tr>\n",
       "      <th>0</th>\n",
       "      <td>6270c51ffdcfb4792d78c40e</td>\n",
       "      <td>6320628</td>\n",
       "      <td>Spider-Man: Far from Home</td>\n",
       "      <td>129</td>\n",
       "      <td>7.7</td>\n",
       "      <td>200908</td>\n",
       "      <td>PG-13</td>\n",
       "      <td>2019</td>\n",
       "      <td>6</td>\n",
       "      <td>26</td>\n",
       "      <td>...</td>\n",
       "      <td>Louis D'Esposito</td>\n",
       "      <td>Columbia Pictures</td>\n",
       "      <td>Pascal Pictures</td>\n",
       "      <td>Marvel Studios</td>\n",
       "      <td>NaN</td>\n",
       "      <td>NaN</td>\n",
       "      <td>NaN</td>\n",
       "      <td>NaN</td>\n",
       "      <td>NaN</td>\n",
       "      <td>NaN</td>\n",
       "    </tr>\n",
       "    <tr>\n",
       "      <th>1</th>\n",
       "      <td>6270c51ffdcfb4792d78c40f</td>\n",
       "      <td>4154796</td>\n",
       "      <td>Avengers: Endgame</td>\n",
       "      <td>181</td>\n",
       "      <td>8.6</td>\n",
       "      <td>569782</td>\n",
       "      <td>PG-13</td>\n",
       "      <td>2019</td>\n",
       "      <td>4</td>\n",
       "      <td>22</td>\n",
       "      <td>...</td>\n",
       "      <td>Jon Favreau</td>\n",
       "      <td>Marvel Studios</td>\n",
       "      <td>NaN</td>\n",
       "      <td>NaN</td>\n",
       "      <td>Joe Russo</td>\n",
       "      <td>NaN</td>\n",
       "      <td>NaN</td>\n",
       "      <td>NaN</td>\n",
       "      <td>NaN</td>\n",
       "      <td>NaN</td>\n",
       "    </tr>\n",
       "    <tr>\n",
       "      <th>2</th>\n",
       "      <td>6270c51ffdcfb4792d78c410</td>\n",
       "      <td>6565702</td>\n",
       "      <td>Dark Phoenix</td>\n",
       "      <td>113</td>\n",
       "      <td>5.8</td>\n",
       "      <td>96585</td>\n",
       "      <td>PG-13</td>\n",
       "      <td>2019</td>\n",
       "      <td>6</td>\n",
       "      <td>5</td>\n",
       "      <td>...</td>\n",
       "      <td>Stan Lee</td>\n",
       "      <td>Twentieth Century Fox</td>\n",
       "      <td>Bad Hat Harry Productions</td>\n",
       "      <td>Donners' Company</td>\n",
       "      <td>NaN</td>\n",
       "      <td>Kinberg Genre</td>\n",
       "      <td>Marvel Entertainment</td>\n",
       "      <td>NaN</td>\n",
       "      <td>NaN</td>\n",
       "      <td>NaN</td>\n",
       "    </tr>\n",
       "    <tr>\n",
       "      <th>3</th>\n",
       "      <td>6270c51ffdcfb4792d78c411</td>\n",
       "      <td>468569</td>\n",
       "      <td>The Dark Knight</td>\n",
       "      <td>152</td>\n",
       "      <td>9</td>\n",
       "      <td>2105721</td>\n",
       "      <td>TV-14::(LV)</td>\n",
       "      <td>2008</td>\n",
       "      <td>7</td>\n",
       "      <td>14</td>\n",
       "      <td>...</td>\n",
       "      <td>Christopher Nolan</td>\n",
       "      <td>Warner Bros.</td>\n",
       "      <td>Legendary Entertainment</td>\n",
       "      <td>Syncopy</td>\n",
       "      <td>NaN</td>\n",
       "      <td>DC Comics</td>\n",
       "      <td>NaN</td>\n",
       "      <td>NaN</td>\n",
       "      <td>NaN</td>\n",
       "      <td>NaN</td>\n",
       "    </tr>\n",
       "    <tr>\n",
       "      <th>4</th>\n",
       "      <td>6270c51ffdcfb4792d78c412</td>\n",
       "      <td>1477834</td>\n",
       "      <td>Aquaman</td>\n",
       "      <td>143</td>\n",
       "      <td>7</td>\n",
       "      <td>300580</td>\n",
       "      <td>PG-13</td>\n",
       "      <td>2018</td>\n",
       "      <td>11</td>\n",
       "      <td>26</td>\n",
       "      <td>...</td>\n",
       "      <td>Geoff Johns</td>\n",
       "      <td>DC Comics</td>\n",
       "      <td>DC Entertainment</td>\n",
       "      <td>Panoramic Pictures</td>\n",
       "      <td>NaN</td>\n",
       "      <td>Rodeo FX</td>\n",
       "      <td>The Safran Company</td>\n",
       "      <td>NaN</td>\n",
       "      <td>NaN</td>\n",
       "      <td>NaN</td>\n",
       "    </tr>\n",
       "    <tr>\n",
       "      <th>...</th>\n",
       "      <td>...</td>\n",
       "      <td>...</td>\n",
       "      <td>...</td>\n",
       "      <td>...</td>\n",
       "      <td>...</td>\n",
       "      <td>...</td>\n",
       "      <td>...</td>\n",
       "      <td>...</td>\n",
       "      <td>...</td>\n",
       "      <td>...</td>\n",
       "      <td>...</td>\n",
       "      <td>...</td>\n",
       "      <td>...</td>\n",
       "      <td>...</td>\n",
       "      <td>...</td>\n",
       "      <td>...</td>\n",
       "      <td>...</td>\n",
       "      <td>...</td>\n",
       "      <td>...</td>\n",
       "      <td>...</td>\n",
       "      <td>...</td>\n",
       "    </tr>\n",
       "    <tr>\n",
       "      <th>479</th>\n",
       "      <td>6270c51ffdcfb4792d78c5ed</td>\n",
       "      <td>1396235</td>\n",
       "      <td>Catalina: A New Kind of Superhero</td>\n",
       "      <td>98</td>\n",
       "      <td>3</td>\n",
       "      <td>14</td>\n",
       "      <td>Not Rated</td>\n",
       "      <td>2009</td>\n",
       "      <td>1</td>\n",
       "      <td>5</td>\n",
       "      <td>...</td>\n",
       "      <td>NaN</td>\n",
       "      <td>Water on the Rock</td>\n",
       "      <td>NaN</td>\n",
       "      <td>NaN</td>\n",
       "      <td>NaN</td>\n",
       "      <td>NaN</td>\n",
       "      <td>NaN</td>\n",
       "      <td>NaN</td>\n",
       "      <td>NaN</td>\n",
       "      <td>NaN</td>\n",
       "    </tr>\n",
       "    <tr>\n",
       "      <th>480</th>\n",
       "      <td>6270c51ffdcfb4792d78c5ee</td>\n",
       "      <td>2597794</td>\n",
       "      <td>ACT Honour Walk</td>\n",
       "      <td>50</td>\n",
       "      <td>NaN</td>\n",
       "      <td>NaN</td>\n",
       "      <td>NaN</td>\n",
       "      <td>2013</td>\n",
       "      <td>1</td>\n",
       "      <td>1</td>\n",
       "      <td>...</td>\n",
       "      <td>NaN</td>\n",
       "      <td>Open Source University</td>\n",
       "      <td>NaN</td>\n",
       "      <td>NaN</td>\n",
       "      <td>NaN</td>\n",
       "      <td>NaN</td>\n",
       "      <td>NaN</td>\n",
       "      <td>NaN</td>\n",
       "      <td>NaN</td>\n",
       "      <td>NaN</td>\n",
       "    </tr>\n",
       "    <tr>\n",
       "      <th>481</th>\n",
       "      <td>6270c51ffdcfb4792d78c5ef</td>\n",
       "      <td>4306404</td>\n",
       "      <td>Oigye Eseo on Ulemae 9: Mujeok Ui Paiteo Ulemae</td>\n",
       "      <td>NaN</td>\n",
       "      <td>NaN</td>\n",
       "      <td>NaN</td>\n",
       "      <td>NaN</td>\n",
       "      <td>1993</td>\n",
       "      <td>10</td>\n",
       "      <td>6</td>\n",
       "      <td>...</td>\n",
       "      <td>NaN</td>\n",
       "      <td>Seoul Donghwa</td>\n",
       "      <td>NaN</td>\n",
       "      <td>NaN</td>\n",
       "      <td>NaN</td>\n",
       "      <td>NaN</td>\n",
       "      <td>NaN</td>\n",
       "      <td>NaN</td>\n",
       "      <td>NaN</td>\n",
       "      <td>NaN</td>\n",
       "    </tr>\n",
       "    <tr>\n",
       "      <th>482</th>\n",
       "      <td>6270c51ffdcfb4792d78c5f0</td>\n",
       "      <td>5737002</td>\n",
       "      <td>Translyatsia Safronova: Pro Konstruktory</td>\n",
       "      <td>65</td>\n",
       "      <td>1.2</td>\n",
       "      <td>12</td>\n",
       "      <td>NaN</td>\n",
       "      <td>2015</td>\n",
       "      <td>8</td>\n",
       "      <td>19</td>\n",
       "      <td>...</td>\n",
       "      <td>NaN</td>\n",
       "      <td>Obzory igrushek Tovarisch Safronov</td>\n",
       "      <td>Obzor konstruktora</td>\n",
       "      <td>NaN</td>\n",
       "      <td>Konstantin Safronov</td>\n",
       "      <td>NaN</td>\n",
       "      <td>NaN</td>\n",
       "      <td>NaN</td>\n",
       "      <td>NaN</td>\n",
       "      <td>NaN</td>\n",
       "    </tr>\n",
       "    <tr>\n",
       "      <th>483</th>\n",
       "      <td>6270c51ffdcfb4792d78c5f1</td>\n",
       "      <td>319384</td>\n",
       "      <td>Eunhaeseo on Byeolddong wangja je3tan: Eunha y...</td>\n",
       "      <td>95</td>\n",
       "      <td>4.8</td>\n",
       "      <td>6</td>\n",
       "      <td>NaN</td>\n",
       "      <td>1988</td>\n",
       "      <td>7</td>\n",
       "      <td>16</td>\n",
       "      <td>...</td>\n",
       "      <td>NaN</td>\n",
       "      <td>Damoa Films</td>\n",
       "      <td>NaN</td>\n",
       "      <td>NaN</td>\n",
       "      <td>NaN</td>\n",
       "      <td>NaN</td>\n",
       "      <td>NaN</td>\n",
       "      <td>NaN</td>\n",
       "      <td>NaN</td>\n",
       "      <td>NaN</td>\n",
       "    </tr>\n",
       "  </tbody>\n",
       "</table>\n",
       "<p>484 rows × 39 columns</p>\n",
       "</div>"
      ],
      "text/plain": [
       "                          _id       ID  \\\n",
       "0    6270c51ffdcfb4792d78c40e  6320628   \n",
       "1    6270c51ffdcfb4792d78c40f  4154796   \n",
       "2    6270c51ffdcfb4792d78c410  6565702   \n",
       "3    6270c51ffdcfb4792d78c411   468569   \n",
       "4    6270c51ffdcfb4792d78c412  1477834   \n",
       "..                        ...      ...   \n",
       "479  6270c51ffdcfb4792d78c5ed  1396235   \n",
       "480  6270c51ffdcfb4792d78c5ee  2597794   \n",
       "481  6270c51ffdcfb4792d78c5ef  4306404   \n",
       "482  6270c51ffdcfb4792d78c5f0  5737002   \n",
       "483  6270c51ffdcfb4792d78c5f1   319384   \n",
       "\n",
       "                                                 Title Runtime Rating  \\\n",
       "0                            Spider-Man: Far from Home     129    7.7   \n",
       "1                                    Avengers: Endgame     181    8.6   \n",
       "2                                         Dark Phoenix     113    5.8   \n",
       "3                                      The Dark Knight     152      9   \n",
       "4                                              Aquaman     143      7   \n",
       "..                                                 ...     ...    ...   \n",
       "479                  Catalina: A New Kind of Superhero      98      3   \n",
       "480                                    ACT Honour Walk      50    NaN   \n",
       "481    Oigye Eseo on Ulemae 9: Mujeok Ui Paiteo Ulemae     NaN    NaN   \n",
       "482           Translyatsia Safronova: Pro Konstruktory      65    1.2   \n",
       "483  Eunhaeseo on Byeolddong wangja je3tan: Eunha y...      95    4.8   \n",
       "\n",
       "       Votes   MPAARating ReleaseYear ReleaseMonth ReleaseDay  ...  \\\n",
       "0     200908        PG-13        2019            6         26  ...   \n",
       "1     569782        PG-13        2019            4         22  ...   \n",
       "2      96585        PG-13        2019            6          5  ...   \n",
       "3    2105721  TV-14::(LV)        2008            7         14  ...   \n",
       "4     300580        PG-13        2018           11         26  ...   \n",
       "..       ...          ...         ...          ...        ...  ...   \n",
       "479       14    Not Rated        2009            1          5  ...   \n",
       "480      NaN          NaN        2013            1          1  ...   \n",
       "481      NaN          NaN        1993           10          6  ...   \n",
       "482       12          NaN        2015            8         19  ...   \n",
       "483        6          NaN        1988            7         16  ...   \n",
       "\n",
       "             Producer5                            Company1  \\\n",
       "0     Louis D'Esposito                   Columbia Pictures   \n",
       "1          Jon Favreau                      Marvel Studios   \n",
       "2             Stan Lee               Twentieth Century Fox   \n",
       "3    Christopher Nolan                        Warner Bros.   \n",
       "4          Geoff Johns                           DC Comics   \n",
       "..                 ...                                 ...   \n",
       "479                NaN                   Water on the Rock   \n",
       "480                NaN              Open Source University   \n",
       "481                NaN                       Seoul Donghwa   \n",
       "482                NaN  Obzory igrushek Tovarisch Safronov   \n",
       "483                NaN                         Damoa Films   \n",
       "\n",
       "                      Company2            Company3            Director2  \\\n",
       "0              Pascal Pictures      Marvel Studios                  NaN   \n",
       "1                          NaN                 NaN            Joe Russo   \n",
       "2    Bad Hat Harry Productions    Donners' Company                  NaN   \n",
       "3      Legendary Entertainment             Syncopy                  NaN   \n",
       "4             DC Entertainment  Panoramic Pictures                  NaN   \n",
       "..                         ...                 ...                  ...   \n",
       "479                        NaN                 NaN                  NaN   \n",
       "480                        NaN                 NaN                  NaN   \n",
       "481                        NaN                 NaN                  NaN   \n",
       "482         Obzor konstruktora                 NaN  Konstantin Safronov   \n",
       "483                        NaN                 NaN                  NaN   \n",
       "\n",
       "          Company4              Company5 Director3 Director4 Director5  \n",
       "0              NaN                   NaN       NaN       NaN       NaN  \n",
       "1              NaN                   NaN       NaN       NaN       NaN  \n",
       "2    Kinberg Genre  Marvel Entertainment       NaN       NaN       NaN  \n",
       "3        DC Comics                   NaN       NaN       NaN       NaN  \n",
       "4         Rodeo FX    The Safran Company       NaN       NaN       NaN  \n",
       "..             ...                   ...       ...       ...       ...  \n",
       "479            NaN                   NaN       NaN       NaN       NaN  \n",
       "480            NaN                   NaN       NaN       NaN       NaN  \n",
       "481            NaN                   NaN       NaN       NaN       NaN  \n",
       "482            NaN                   NaN       NaN       NaN       NaN  \n",
       "483            NaN                   NaN       NaN       NaN       NaN  \n",
       "\n",
       "[484 rows x 39 columns]"
      ]
     },
     "execution_count": 26,
     "metadata": {},
     "output_type": "execute_result"
    }
   ],
   "source": [
    "df = pd.DataFrame(list(imdb.find()))\n",
    "df"
   ]
  },
  {
   "cell_type": "code",
   "execution_count": 27,
   "metadata": {},
   "outputs": [],
   "source": [
    "# set fig size\n",
    "sns.set(rc={\"figure.figsize\":(16, 9)})\n",
    "\n",
    "# define a function to parse MPAARating column\n",
    "def ratingParser(v):\n",
    "    mpaarating = str(v[0])\n",
    "    if len((mpaarating).split(\"::\")) > 1:\n",
    "        return mpaarating.split(\"::\")[0]\n",
    "    else:\n",
    "        return v\n"
   ]
  },
  {
   "cell_type": "markdown",
   "metadata": {},
   "source": [
    "### Use Aggregation from MongoDB"
   ]
  },
  {
   "cell_type": "markdown",
   "metadata": {},
   "source": [
    "Use `Aggregation` in MongoDb to add extra Fields.\n",
    "\n",
    "Add following fields:\n",
    "- NetRevenue: Subtract `GrossSales` and `Budget` will shows us net revenue of each movie\n",
    "- Releasedate: New field to indicate date of a movie \n",
    "- sinceReleaseYears: indicate how old a movie is\n"
   ]
  },
  {
   "cell_type": "code",
   "execution_count": 28,
   "metadata": {},
   "outputs": [
    {
     "data": {
      "text/html": [
       "<div>\n",
       "<style scoped>\n",
       "    .dataframe tbody tr th:only-of-type {\n",
       "        vertical-align: middle;\n",
       "    }\n",
       "\n",
       "    .dataframe tbody tr th {\n",
       "        vertical-align: top;\n",
       "    }\n",
       "\n",
       "    .dataframe thead th {\n",
       "        text-align: right;\n",
       "    }\n",
       "</style>\n",
       "<table border=\"1\" class=\"dataframe\">\n",
       "  <thead>\n",
       "    <tr style=\"text-align: right;\">\n",
       "      <th></th>\n",
       "      <th>_id</th>\n",
       "      <th>ID</th>\n",
       "      <th>Title</th>\n",
       "      <th>Runtime</th>\n",
       "      <th>Rating</th>\n",
       "      <th>Votes</th>\n",
       "      <th>MPAARating</th>\n",
       "      <th>ReleaseYear</th>\n",
       "      <th>ReleaseMonth</th>\n",
       "      <th>ReleaseDay</th>\n",
       "      <th>...</th>\n",
       "      <th>Company3</th>\n",
       "      <th>Releasedate</th>\n",
       "      <th>NetRevenue</th>\n",
       "      <th>sinceReleaseYears</th>\n",
       "      <th>Director2</th>\n",
       "      <th>Company4</th>\n",
       "      <th>Company5</th>\n",
       "      <th>Director3</th>\n",
       "      <th>Director4</th>\n",
       "      <th>Director5</th>\n",
       "    </tr>\n",
       "  </thead>\n",
       "  <tbody>\n",
       "    <tr>\n",
       "      <th>1</th>\n",
       "      <td>6270c51ffdcfb4792d78c40f</td>\n",
       "      <td>4154796</td>\n",
       "      <td>Avengers: Endgame</td>\n",
       "      <td>181.0</td>\n",
       "      <td>8.6</td>\n",
       "      <td>569782.0</td>\n",
       "      <td>PG-13</td>\n",
       "      <td>2019</td>\n",
       "      <td>4</td>\n",
       "      <td>22</td>\n",
       "      <td>...</td>\n",
       "      <td>NaN</td>\n",
       "      <td>2019-4-22</td>\n",
       "      <td>2.440274e+09</td>\n",
       "      <td>3</td>\n",
       "      <td>Joe Russo</td>\n",
       "      <td>NaN</td>\n",
       "      <td>NaN</td>\n",
       "      <td>NaN</td>\n",
       "      <td>NaN</td>\n",
       "      <td>NaN</td>\n",
       "    </tr>\n",
       "    <tr>\n",
       "      <th>9</th>\n",
       "      <td>6270c51ffdcfb4792d78c417</td>\n",
       "      <td>4154756</td>\n",
       "      <td>Avengers: Infinity War</td>\n",
       "      <td>149.0</td>\n",
       "      <td>8.5</td>\n",
       "      <td>712222.0</td>\n",
       "      <td>PG-13</td>\n",
       "      <td>2018</td>\n",
       "      <td>4</td>\n",
       "      <td>23</td>\n",
       "      <td>...</td>\n",
       "      <td>South Pictures</td>\n",
       "      <td>2018-4-23</td>\n",
       "      <td>1.727710e+09</td>\n",
       "      <td>4</td>\n",
       "      <td>Joe Russo</td>\n",
       "      <td>NaN</td>\n",
       "      <td>NaN</td>\n",
       "      <td>NaN</td>\n",
       "      <td>NaN</td>\n",
       "      <td>NaN</td>\n",
       "    </tr>\n",
       "    <tr>\n",
       "      <th>32</th>\n",
       "      <td>6270c51ffdcfb4792d78c42e</td>\n",
       "      <td>848228</td>\n",
       "      <td>The Avengers</td>\n",
       "      <td>143.0</td>\n",
       "      <td>8.0</td>\n",
       "      <td>1201420.0</td>\n",
       "      <td>TV-14</td>\n",
       "      <td>2012</td>\n",
       "      <td>4</td>\n",
       "      <td>11</td>\n",
       "      <td>...</td>\n",
       "      <td>NaN</td>\n",
       "      <td>2012-4-11</td>\n",
       "      <td>1.299558e+09</td>\n",
       "      <td>9</td>\n",
       "      <td>NaN</td>\n",
       "      <td>NaN</td>\n",
       "      <td>NaN</td>\n",
       "      <td>NaN</td>\n",
       "      <td>NaN</td>\n",
       "      <td>NaN</td>\n",
       "    </tr>\n",
       "    <tr>\n",
       "      <th>43</th>\n",
       "      <td>6270c51ffdcfb4792d78c439</td>\n",
       "      <td>2395427</td>\n",
       "      <td>Avengers: Age of Ultron</td>\n",
       "      <td>141.0</td>\n",
       "      <td>7.3</td>\n",
       "      <td>683755.0</td>\n",
       "      <td>PG-13</td>\n",
       "      <td>2015</td>\n",
       "      <td>4</td>\n",
       "      <td>13</td>\n",
       "      <td>...</td>\n",
       "      <td>NaN</td>\n",
       "      <td>2015-4-13</td>\n",
       "      <td>1.155414e+09</td>\n",
       "      <td>6</td>\n",
       "      <td>NaN</td>\n",
       "      <td>NaN</td>\n",
       "      <td>NaN</td>\n",
       "      <td>NaN</td>\n",
       "      <td>NaN</td>\n",
       "      <td>NaN</td>\n",
       "    </tr>\n",
       "    <tr>\n",
       "      <th>20</th>\n",
       "      <td>6270c51ffdcfb4792d78c422</td>\n",
       "      <td>1825683</td>\n",
       "      <td>Black Panther</td>\n",
       "      <td>134.0</td>\n",
       "      <td>7.3</td>\n",
       "      <td>543390.0</td>\n",
       "      <td>PG-13</td>\n",
       "      <td>2018</td>\n",
       "      <td>1</td>\n",
       "      <td>29</td>\n",
       "      <td>...</td>\n",
       "      <td>NaN</td>\n",
       "      <td>2018-1-29</td>\n",
       "      <td>1.147071e+09</td>\n",
       "      <td>4</td>\n",
       "      <td>NaN</td>\n",
       "      <td>NaN</td>\n",
       "      <td>NaN</td>\n",
       "      <td>NaN</td>\n",
       "      <td>NaN</td>\n",
       "      <td>NaN</td>\n",
       "    </tr>\n",
       "  </tbody>\n",
       "</table>\n",
       "<p>5 rows × 42 columns</p>\n",
       "</div>"
      ],
      "text/plain": [
       "                         _id       ID                    Title  Runtime  \\\n",
       "1   6270c51ffdcfb4792d78c40f  4154796        Avengers: Endgame    181.0   \n",
       "9   6270c51ffdcfb4792d78c417  4154756   Avengers: Infinity War    149.0   \n",
       "32  6270c51ffdcfb4792d78c42e   848228             The Avengers    143.0   \n",
       "43  6270c51ffdcfb4792d78c439  2395427  Avengers: Age of Ultron    141.0   \n",
       "20  6270c51ffdcfb4792d78c422  1825683            Black Panther    134.0   \n",
       "\n",
       "    Rating      Votes MPAARating ReleaseYear ReleaseMonth ReleaseDay  ...  \\\n",
       "1      8.6   569782.0      PG-13        2019            4         22  ...   \n",
       "9      8.5   712222.0      PG-13        2018            4         23  ...   \n",
       "32     8.0  1201420.0      TV-14        2012            4         11  ...   \n",
       "43     7.3   683755.0      PG-13        2015            4         13  ...   \n",
       "20     7.3   543390.0      PG-13        2018            1         29  ...   \n",
       "\n",
       "          Company3 Releasedate    NetRevenue sinceReleaseYears  Director2  \\\n",
       "1              NaN   2019-4-22  2.440274e+09                 3  Joe Russo   \n",
       "9   South Pictures   2018-4-23  1.727710e+09                 4  Joe Russo   \n",
       "32             NaN   2012-4-11  1.299558e+09                 9        NaN   \n",
       "43             NaN   2015-4-13  1.155414e+09                 6        NaN   \n",
       "20             NaN   2018-1-29  1.147071e+09                 4        NaN   \n",
       "\n",
       "   Company4 Company5 Director3 Director4 Director5  \n",
       "1       NaN      NaN       NaN       NaN       NaN  \n",
       "9       NaN      NaN       NaN       NaN       NaN  \n",
       "32      NaN      NaN       NaN       NaN       NaN  \n",
       "43      NaN      NaN       NaN       NaN       NaN  \n",
       "20      NaN      NaN       NaN       NaN       NaN  \n",
       "\n",
       "[5 rows x 42 columns]"
      ]
     },
     "execution_count": 28,
     "metadata": {},
     "output_type": "execute_result"
    }
   ],
   "source": [
    "from datetime import datetime\n",
    "import regex as re\n",
    "\n",
    "pipeline = [\n",
    "    {\n",
    "        '$addFields': {\n",
    "            'Releasedate': {\n",
    "                '$concat': [\n",
    "                    '$ReleaseYear', '-', '$ReleaseMonth', '-', '$ReleaseDay'\n",
    "                ]\n",
    "            }\n",
    "        }\n",
    "    }, {\n",
    "        '$addFields': {\n",
    "            'NetRevenue': {\n",
    "                '$subtract': [\n",
    "                    {\n",
    "                        '$toLong': '$GrossSales'\n",
    "                    }, {\n",
    "                        '$toLong': '$Budget'\n",
    "                    }\n",
    "                ]\n",
    "            }\n",
    "        }\n",
    "    }, {\n",
    "        '$addFields': {\n",
    "            'sinceReleaseYears': {\n",
    "                '$toInt': \n",
    "                    {\n",
    "                    '$divide': [\n",
    "                        {\n",
    "                            '$subtract': [\n",
    "                                datetime.utcnow(), {\n",
    "                                    '$toDate': '$Releasedate'\n",
    "                                }\n",
    "                            ]\n",
    "                        }, 1000 * 60 * 60 * 24 * 31 * 12 # conver to a milisecond to a year\n",
    "                    ]\n",
    "                }\n",
    "            }\n",
    "        }\n",
    "    },{\n",
    "        '$addFields': {\n",
    "            'Rating': {\n",
    "                '$toDouble': '$Rating' # conver to Double\n",
    "            }\n",
    "        }\n",
    "    },{\n",
    "        '$addFields': {\n",
    "            'Runtime': {\n",
    "                '$toInt': '$Runtime' #conver to Int\n",
    "            }\n",
    "        }\n",
    "    },{\n",
    "        '$addFields': {\n",
    "            'Votes': {\n",
    "                '$toInt': '$Votes'\n",
    "            }\n",
    "        }\n",
    "    },{\n",
    "        '$addFields': {\n",
    "            'Budget': {\n",
    "                '$toLong': '$Budget' # conver to Long\n",
    "            }\n",
    "        }\n",
    "    }\n",
    "]\n",
    "\n",
    "df = pd.DataFrame(list(imdb.aggregate(pipeline)))\n",
    "df = df.sort_values(by=\"NetRevenue\", ascending=False)\n",
    "df[[\"MPAARating\"]]= df[[\"MPAARating\"]].apply(ratingParser, axis=1)\n",
    "df.head(5)\n"
   ]
  },
  {
   "cell_type": "markdown",
   "metadata": {},
   "source": [
    "### Q. What relation between net revenue and release year? \n",
    "Following shows the recent movies."
   ]
  },
  {
   "cell_type": "code",
   "execution_count": 43,
   "metadata": {},
   "outputs": [
    {
     "data": {
      "text/plain": [
       "<AxesSubplot:xlabel='sinceReleaseYears', ylabel='NetRevenue'>"
      ]
     },
     "execution_count": 43,
     "metadata": {},
     "output_type": "execute_result"
    },
    {
     "data": {
      "image/png": "[encoded data removed]",
      "text/plain": [
       "<Figure size 1152x648 with 1 Axes>"
      ]
     },
     "metadata": {},
     "output_type": "display_data"
    }
   ],
   "source": [
    "sns.scatterplot(data=df, x=\"sinceReleaseYears\", y=\"NetRevenue\", hue=\"MPAARating\", size=\"Rating\", sizes=(10,500) )"
   ]
  },
  {
   "cell_type": "markdown",
   "metadata": {},
   "source": [
    "A few interesting things are:\n",
    "- NetRevenue has increased over time. \n",
    "- R grade has relatively small NetRevenue.\n"
   ]
  },
  {
   "cell_type": "markdown",
   "metadata": {},
   "source": [
    "### Q. The net revenue top 5 movies?\n",
    "\n",
    "The top 5 movies are from Marvel Studio."
   ]
  },
  {
   "cell_type": "code",
   "execution_count": 31,
   "metadata": {
    "scrolled": true
   },
   "outputs": [
    {
     "data": {
      "text/html": [
       "<div>\n",
       "<style scoped>\n",
       "    .dataframe tbody tr th:only-of-type {\n",
       "        vertical-align: middle;\n",
       "    }\n",
       "\n",
       "    .dataframe tbody tr th {\n",
       "        vertical-align: top;\n",
       "    }\n",
       "\n",
       "    .dataframe thead th {\n",
       "        text-align: right;\n",
       "    }\n",
       "</style>\n",
       "<table border=\"1\" class=\"dataframe\">\n",
       "  <thead>\n",
       "    <tr style=\"text-align: right;\">\n",
       "      <th></th>\n",
       "      <th>Title</th>\n",
       "      <th>NetRevenue</th>\n",
       "      <th>Releasedate</th>\n",
       "    </tr>\n",
       "  </thead>\n",
       "  <tbody>\n",
       "    <tr>\n",
       "      <th>1</th>\n",
       "      <td>Avengers: Endgame</td>\n",
       "      <td>2.440274e+09</td>\n",
       "      <td>2019-4-22</td>\n",
       "    </tr>\n",
       "    <tr>\n",
       "      <th>9</th>\n",
       "      <td>Avengers: Infinity War</td>\n",
       "      <td>1.727710e+09</td>\n",
       "      <td>2018-4-23</td>\n",
       "    </tr>\n",
       "    <tr>\n",
       "      <th>32</th>\n",
       "      <td>The Avengers</td>\n",
       "      <td>1.299558e+09</td>\n",
       "      <td>2012-4-11</td>\n",
       "    </tr>\n",
       "    <tr>\n",
       "      <th>43</th>\n",
       "      <td>Avengers: Age of Ultron</td>\n",
       "      <td>1.155414e+09</td>\n",
       "      <td>2015-4-13</td>\n",
       "    </tr>\n",
       "    <tr>\n",
       "      <th>20</th>\n",
       "      <td>Black Panther</td>\n",
       "      <td>1.147071e+09</td>\n",
       "      <td>2018-1-29</td>\n",
       "    </tr>\n",
       "  </tbody>\n",
       "</table>\n",
       "</div>"
      ],
      "text/plain": [
       "                      Title    NetRevenue Releasedate\n",
       "1         Avengers: Endgame  2.440274e+09   2019-4-22\n",
       "9    Avengers: Infinity War  1.727710e+09   2018-4-23\n",
       "32             The Avengers  1.299558e+09   2012-4-11\n",
       "43  Avengers: Age of Ultron  1.155414e+09   2015-4-13\n",
       "20            Black Panther  1.147071e+09   2018-1-29"
      ]
     },
     "execution_count": 31,
     "metadata": {},
     "output_type": "execute_result"
    }
   ],
   "source": [
    "df[[\"Title\", \"NetRevenue\",\"Releasedate\"]].head(5)"
   ]
  },
  {
   "cell_type": "markdown",
   "metadata": {},
   "source": [
    "### Q. The net revenue bottom 5 movies?\n"
   ]
  },
  {
   "cell_type": "code",
   "execution_count": 32,
   "metadata": {},
   "outputs": [
    {
     "data": {
      "text/html": [
       "<div>\n",
       "<style scoped>\n",
       "    .dataframe tbody tr th:only-of-type {\n",
       "        vertical-align: middle;\n",
       "    }\n",
       "\n",
       "    .dataframe tbody tr th {\n",
       "        vertical-align: top;\n",
       "    }\n",
       "\n",
       "    .dataframe thead th {\n",
       "        text-align: right;\n",
       "    }\n",
       "</style>\n",
       "<table border=\"1\" class=\"dataframe\">\n",
       "  <thead>\n",
       "    <tr style=\"text-align: right;\">\n",
       "      <th></th>\n",
       "      <th>Title</th>\n",
       "      <th>NetRevenue</th>\n",
       "      <th>Releasedate</th>\n",
       "    </tr>\n",
       "  </thead>\n",
       "  <tbody>\n",
       "    <tr>\n",
       "      <th>315</th>\n",
       "      <td>Badrinath</td>\n",
       "      <td>-402800000.0</td>\n",
       "      <td>2011-6-9</td>\n",
       "    </tr>\n",
       "    <tr>\n",
       "      <th>188</th>\n",
       "      <td>Bulletproof Monk</td>\n",
       "      <td>-38039370.0</td>\n",
       "      <td>2003-4-16</td>\n",
       "    </tr>\n",
       "    <tr>\n",
       "      <th>130</th>\n",
       "      <td>Superman II</td>\n",
       "      <td>-27970422.0</td>\n",
       "      <td>1980-12-4</td>\n",
       "    </tr>\n",
       "    <tr>\n",
       "      <th>147</th>\n",
       "      <td>Son of the Mask</td>\n",
       "      <td>-26447359.0</td>\n",
       "      <td>2005-2-11</td>\n",
       "    </tr>\n",
       "    <tr>\n",
       "      <th>156</th>\n",
       "      <td>Punisher: War Zone</td>\n",
       "      <td>-24899964.0</td>\n",
       "      <td>2008-12-4</td>\n",
       "    </tr>\n",
       "    <tr>\n",
       "      <th>126</th>\n",
       "      <td>Catwoman</td>\n",
       "      <td>-17897621.0</td>\n",
       "      <td>2004-7-19</td>\n",
       "    </tr>\n",
       "    <tr>\n",
       "      <th>114</th>\n",
       "      <td>Howard the Duck</td>\n",
       "      <td>-13333000.0</td>\n",
       "      <td>1986-8-1</td>\n",
       "    </tr>\n",
       "    <tr>\n",
       "      <th>163</th>\n",
       "      <td>The Avengers</td>\n",
       "      <td>-11500000.0</td>\n",
       "      <td>1998-8-13</td>\n",
       "    </tr>\n",
       "    <tr>\n",
       "      <th>136</th>\n",
       "      <td>Elektra</td>\n",
       "      <td>-10850769.0</td>\n",
       "      <td>2005-1-8</td>\n",
       "    </tr>\n",
       "    <tr>\n",
       "      <th>181</th>\n",
       "      <td>The Crow: City of Angels</td>\n",
       "      <td>-5500000.0</td>\n",
       "      <td>1996-8-30</td>\n",
       "    </tr>\n",
       "  </tbody>\n",
       "</table>\n",
       "</div>"
      ],
      "text/plain": [
       "                        Title   NetRevenue Releasedate\n",
       "315                 Badrinath -402800000.0    2011-6-9\n",
       "188          Bulletproof Monk  -38039370.0   2003-4-16\n",
       "130               Superman II  -27970422.0   1980-12-4\n",
       "147           Son of the Mask  -26447359.0   2005-2-11\n",
       "156        Punisher: War Zone  -24899964.0   2008-12-4\n",
       "126                  Catwoman  -17897621.0   2004-7-19\n",
       "114           Howard the Duck  -13333000.0    1986-8-1\n",
       "163              The Avengers  -11500000.0   1998-8-13\n",
       "136                   Elektra  -10850769.0    2005-1-8\n",
       "181  The Crow: City of Angels   -5500000.0   1996-8-30"
      ]
     },
     "execution_count": 32,
     "metadata": {},
     "output_type": "execute_result"
    }
   ],
   "source": [
    "df[[\"Title\", \"NetRevenue\",\"Releasedate\"]].sort_values(\"NetRevenue\", ascending=True).head(10)"
   ]
  },
  {
   "cell_type": "markdown",
   "metadata": {},
   "source": [
    "![Badrinath](https://upload.wikimedia.org/wikipedia/en/c/c2/Badrinath_poster.jpg)\n",
    "\n",
    "The worst movie is `Badrinath` which recorded negative 402.8 M revenue.\n",
    "\n",
    "Badrenath is a 2011 Indian Telugu-language romantic action film directed by V. V. Vinayak, written by Chinni Krishna and produced by Allu Aravind.\n"
   ]
  },
  {
   "cell_type": "code",
   "execution_count": 33,
   "metadata": {},
   "outputs": [
    {
     "data": {
      "text/html": [
       "<div>\n",
       "<style scoped>\n",
       "    .dataframe tbody tr th:only-of-type {\n",
       "        vertical-align: middle;\n",
       "    }\n",
       "\n",
       "    .dataframe tbody tr th {\n",
       "        vertical-align: top;\n",
       "    }\n",
       "\n",
       "    .dataframe thead th {\n",
       "        text-align: right;\n",
       "    }\n",
       "</style>\n",
       "<table border=\"1\" class=\"dataframe\">\n",
       "  <thead>\n",
       "    <tr style=\"text-align: right;\">\n",
       "      <th></th>\n",
       "      <th>_id</th>\n",
       "      <th>ID</th>\n",
       "      <th>Title</th>\n",
       "      <th>Runtime</th>\n",
       "      <th>Rating</th>\n",
       "      <th>Votes</th>\n",
       "      <th>MPAARating</th>\n",
       "      <th>ReleaseYear</th>\n",
       "      <th>ReleaseMonth</th>\n",
       "      <th>ReleaseDay</th>\n",
       "      <th>...</th>\n",
       "      <th>Cast9</th>\n",
       "      <th>Cast10</th>\n",
       "      <th>Director1</th>\n",
       "      <th>Producer1</th>\n",
       "      <th>Producer2</th>\n",
       "      <th>Producer3</th>\n",
       "      <th>Producer4</th>\n",
       "      <th>Producer5</th>\n",
       "      <th>Company1</th>\n",
       "      <th>Company2</th>\n",
       "    </tr>\n",
       "  </thead>\n",
       "  <tbody>\n",
       "    <tr>\n",
       "      <th>0</th>\n",
       "      <td>6270c51ffdcfb4792d78c42e</td>\n",
       "      <td>848228</td>\n",
       "      <td>The Avengers</td>\n",
       "      <td>143</td>\n",
       "      <td>8</td>\n",
       "      <td>1201420</td>\n",
       "      <td>TV-14::(LV)</td>\n",
       "      <td>2012</td>\n",
       "      <td>4</td>\n",
       "      <td>11</td>\n",
       "      <td>...</td>\n",
       "      <td>Cobie Smulders</td>\n",
       "      <td>Stellan Skarsgï¿½rd</td>\n",
       "      <td>Joss Whedon</td>\n",
       "      <td>Victoria Alonso</td>\n",
       "      <td>Louis D'Esposito</td>\n",
       "      <td>Jon Favreau</td>\n",
       "      <td>Kevin Feige</td>\n",
       "      <td>Alan Fine</td>\n",
       "      <td>Marvel Studios</td>\n",
       "      <td>Paramount Pictures</td>\n",
       "    </tr>\n",
       "    <tr>\n",
       "      <th>1</th>\n",
       "      <td>6270c51ffdcfb4792d78c4b1</td>\n",
       "      <td>118661</td>\n",
       "      <td>The Avengers</td>\n",
       "      <td>89</td>\n",
       "      <td>3.8</td>\n",
       "      <td>39285</td>\n",
       "      <td>PG-13</td>\n",
       "      <td>1998</td>\n",
       "      <td>8</td>\n",
       "      <td>13</td>\n",
       "      <td>...</td>\n",
       "      <td>John Wood</td>\n",
       "      <td>Carmen Ejogo</td>\n",
       "      <td>Jeremiah S. Chechik</td>\n",
       "      <td>Susan Ekins</td>\n",
       "      <td>Jerry Weintraub</td>\n",
       "      <td>NaN</td>\n",
       "      <td>NaN</td>\n",
       "      <td>NaN</td>\n",
       "      <td>Warner Bros.</td>\n",
       "      <td>Jerry Weintraub Productions</td>\n",
       "    </tr>\n",
       "  </tbody>\n",
       "</table>\n",
       "<p>2 rows × 32 columns</p>\n",
       "</div>"
      ],
      "text/plain": [
       "                        _id      ID         Title Runtime Rating    Votes  \\\n",
       "0  6270c51ffdcfb4792d78c42e  848228  The Avengers     143      8  1201420   \n",
       "1  6270c51ffdcfb4792d78c4b1  118661  The Avengers      89    3.8    39285   \n",
       "\n",
       "    MPAARating ReleaseYear ReleaseMonth ReleaseDay  ...           Cast9  \\\n",
       "0  TV-14::(LV)        2012            4         11  ...  Cobie Smulders   \n",
       "1        PG-13        1998            8         13  ...       John Wood   \n",
       "\n",
       "                Cast10            Director1        Producer1  \\\n",
       "0  Stellan Skarsgï¿½rd          Joss Whedon  Victoria Alonso   \n",
       "1         Carmen Ejogo  Jeremiah S. Chechik      Susan Ekins   \n",
       "\n",
       "          Producer2    Producer3    Producer4  Producer5        Company1  \\\n",
       "0  Louis D'Esposito  Jon Favreau  Kevin Feige  Alan Fine  Marvel Studios   \n",
       "1   Jerry Weintraub          NaN          NaN        NaN    Warner Bros.   \n",
       "\n",
       "                      Company2  \n",
       "0           Paramount Pictures  \n",
       "1  Jerry Weintraub Productions  \n",
       "\n",
       "[2 rows x 32 columns]"
      ]
     },
     "execution_count": 33,
     "metadata": {},
     "output_type": "execute_result"
    }
   ],
   "source": [
    "pd.DataFrame(list(imdb.find({'Title': 'The Avengers'})))"
   ]
  },
  {
   "cell_type": "markdown",
   "metadata": {},
   "source": [
    "`The Avengers`(1998) is different than `The Avengers`(2012)!\n",
    "\n",
    "![The Avengers:1998](https://upload.wikimedia.org/wikipedia/en/d/d7/The_Avengers_%281998_film%29_poster.jpg)\n",
    "\n",
    "The Avengers is a 1998 American spy action film directed by Jeremiah Chechik, an adaptation of the 1961–1969 British television series of the same name. "
   ]
  },
  {
   "cell_type": "markdown",
   "metadata": {},
   "source": [
    "### Q. Better rating more net revenue? What is relation between movie rating and net revenue?"
   ]
  },
  {
   "cell_type": "code",
   "execution_count": 42,
   "metadata": {},
   "outputs": [
    {
     "data": {
      "text/plain": [
       "<AxesSubplot:xlabel='Rating', ylabel='NetRevenue'>"
      ]
     },
     "execution_count": 42,
     "metadata": {},
     "output_type": "execute_result"
    },
    {
     "data": {
      "image/png": "[encoded data removed]",
      "text/plain": [
       "<Figure size 1152x648 with 1 Axes>"
      ]
     },
     "metadata": {},
     "output_type": "display_data"
    }
   ],
   "source": [
    "sns.scatterplot(data=df, x=\"Rating\", y=\"NetRevenue\", hue=\"sinceReleaseYears\")"
   ]
  },
  {
   "cell_type": "markdown",
   "metadata": {},
   "source": [
    "- In the case of movies with a rating of 5 or higher, a positive correlation between the rating and net revenue is found.\n",
    "- Movies over the past five years are mainly high in net revunue.\n",
    "\n",
    "-  Checked by Minitab for simple regression.(Net revenue cannot be predicted by movie ratings alone, but correlation can be confirmed.)\n",
    "![](./image/minitab.png)"
   ]
  },
  {
   "cell_type": "markdown",
   "metadata": {},
   "source": [
    "### Q. What is the trend of movie market growth?"
   ]
  },
  {
   "cell_type": "markdown",
   "metadata": {},
   "source": [
    "#### Use MongoDB aggregation to get total gross sales per year\n",
    "\n",
    "MongoDB provides built-in function such as group by and sum for fields. \n",
    "\n",
    "If it was SQL Server, I could have run following query to get gorss sales for each year. \n",
    "\n",
    "```sql\n",
    "SELECT ReleaseYear, sum(GrossSales) as totalGrossAmount\n",
    "FROM imdb\n",
    "GROUP BY ReleaseYear\n",
    "```\n",
    "\n",
    "But MongoDB use different syntax to run group by query. So the SQL query need to be written as following.\n",
    "```json\n",
    "[\n",
    "    {\n",
    "        '$group': {\n",
    "            '_id': '$ReleaseYear', \n",
    "            'totalGrossAmount': {\n",
    "                '$sum': {\n",
    "                    '$toLong': '$GrossSales'\n",
    "                }\n",
    "            }\n",
    "        }\n",
    "    }, {\n",
    "        '$sort': {\n",
    "            '_id': 1\n",
    "        }\n",
    "    }\n",
    "]\n",
    "```"
   ]
  },
  {
   "cell_type": "code",
   "execution_count": 35,
   "metadata": {
    "scrolled": true
   },
   "outputs": [
    {
     "data": {
      "image/png": "[encoded data removed]",
      "text/plain": [
       "<Figure size 2016x648 with 1 Axes>"
      ]
     },
     "metadata": {},
     "output_type": "display_data"
    }
   ],
   "source": [
    "pipeline = [\n",
    "    {\n",
    "        '$group': {\n",
    "            '_id': '$ReleaseYear', \n",
    "            'totalGrossAmount': {\n",
    "                '$sum': {\n",
    "                    '$toLong': '$GrossSales'\n",
    "                }\n",
    "            }\n",
    "        }\n",
    "    }, {\n",
    "        '$sort': {\n",
    "            '_id': 1\n",
    "        }\n",
    "    }\n",
    "]\n",
    "\n",
    "# Resize figure for this chart\n",
    "sns.set(rc={\"figure.figsize\":(28, 9)})\n",
    "sns.lineplot(data=pd.DataFrame(list(imdb.aggregate(pipeline))), x=\"_id\", y=\"totalGrossAmount\")"
   ]
  },
  {
   "cell_type": "markdown",
   "metadata": {},
   "source": [
    "- Significant growth has been observed in the film market since 1989.\n",
    "- Calculation of the year-on-year growth rate (%) is required for accurate growth rate observation.\n"
   ]
  },
  {
   "cell_type": "markdown",
   "metadata": {},
   "source": [
    "### Extra reseach questions\n",
    "\n",
    "- Which movies are there and how is the rating looks like in 1989. \n",
    "- How have movie ratings changed since 1989?"
   ]
  },
  {
   "cell_type": "code",
   "execution_count": 48,
   "metadata": {},
   "outputs": [
    {
     "data": {
      "image/png": "[encoded data removed]",
      "text/plain": [
       "<Figure size 2016x648 with 1 Axes>"
      ]
     },
     "metadata": {},
     "output_type": "display_data"
    }
   ],
   "source": [
    "sns.boxplot(data=df.sort_values(\"ReleaseYear\"), x=\"ReleaseYear\",y=\"Rating\")\n",
    "sns.set(rc={\"figure.figsize\":(16, 9)})"
   ]
  },
  {
   "cell_type": "markdown",
   "metadata": {},
   "source": [
    "## Basic research project on the movie data set\n",
    "\n",
    "Exploratory Data Analysis"
   ]
  },
  {
   "cell_type": "code",
   "execution_count": 56,
   "metadata": {},
   "outputs": [],
   "source": [
    "# the data was stored as a string. conver to string to float.\n",
    "df[\"Rating\"] = df[\"Rating\"].astype(str).astype(float)\n",
    "df[\"OpeningWeekend\"] = df[\"OpeningWeekend\"].astype(str).astype(float)\n",
    "df[\"Budget\"] = df[\"Budget\"].astype(str).astype(float)\n",
    "df[\"GrossSales\"] = df[\"GrossSales\"].astype(str).astype(float)\n",
    "df[\"Runtime\"] = df[\"Runtime\"].astype(str).astype(float)"
   ]
  },
  {
   "cell_type": "code",
   "execution_count": 57,
   "metadata": {},
   "outputs": [
    {
     "data": {
      "text/plain": [
       "<AxesSubplot:xlabel='Rating', ylabel='Count'>"
      ]
     },
     "execution_count": 57,
     "metadata": {},
     "output_type": "execute_result"
    },
    {
     "data": {
      "image/png": "[encoded data removed]",
      "text/plain": [
       "<Figure size 1152x648 with 1 Axes>"
      ]
     },
     "metadata": {},
     "output_type": "display_data"
    }
   ],
   "source": [
    "sns.histplot(data=df, x=\"Rating\")"
   ]
  },
  {
   "cell_type": "markdown",
   "metadata": {},
   "source": [
    "- Left skewed - generous rating.\n",
    "- The highest rating 9.0 The lowest rating 1.1.\n",
    "- No description of rating range such as 0-10.\n",
    "- Mode rating 6.7 and 6.8."
   ]
  },
  {
   "cell_type": "markdown",
   "metadata": {},
   "source": [
    "### Q. Check the `OpeningWeekend` trend"
   ]
  },
  {
   "cell_type": "code",
   "execution_count": 58,
   "metadata": {},
   "outputs": [
    {
     "data": {
      "text/plain": [
       "<AxesSubplot:xlabel='OpeningWeekend', ylabel='Count'>"
      ]
     },
     "execution_count": 58,
     "metadata": {},
     "output_type": "execute_result"
    },
    {
     "data": {
      "image/png": "[encoded data removed]",
      "text/plain": [
       "<Figure size 1152x648 with 1 Axes>"
      ]
     },
     "metadata": {},
     "output_type": "display_data"
    }
   ],
   "source": [
    "sns.histplot(data=df, x=\"OpeningWeekend\")"
   ]
  },
  {
   "cell_type": "markdown",
   "metadata": {},
   "source": [
    "- Declining.\n",
    "- Most movies were not watched by a large audience in the opening weekend.\n",
    "- few movies got a large audience in the opening weekend (Marvel Studios)."
   ]
  },
  {
   "cell_type": "code",
   "execution_count": 59,
   "metadata": {},
   "outputs": [
    {
     "data": {
      "text/html": [
       "<div>\n",
       "<style scoped>\n",
       "    .dataframe tbody tr th:only-of-type {\n",
       "        vertical-align: middle;\n",
       "    }\n",
       "\n",
       "    .dataframe tbody tr th {\n",
       "        vertical-align: top;\n",
       "    }\n",
       "\n",
       "    .dataframe thead th {\n",
       "        text-align: right;\n",
       "    }\n",
       "</style>\n",
       "<table border=\"1\" class=\"dataframe\">\n",
       "  <thead>\n",
       "    <tr style=\"text-align: right;\">\n",
       "      <th></th>\n",
       "      <th>_id</th>\n",
       "      <th>ID</th>\n",
       "      <th>Title</th>\n",
       "      <th>Runtime</th>\n",
       "      <th>Rating</th>\n",
       "      <th>Votes</th>\n",
       "      <th>MPAARating</th>\n",
       "      <th>ReleaseYear</th>\n",
       "      <th>ReleaseMonth</th>\n",
       "      <th>ReleaseDay</th>\n",
       "      <th>...</th>\n",
       "      <th>Company3</th>\n",
       "      <th>Releasedate</th>\n",
       "      <th>NetRevenue</th>\n",
       "      <th>sinceReleaseYears</th>\n",
       "      <th>Director2</th>\n",
       "      <th>Company4</th>\n",
       "      <th>Company5</th>\n",
       "      <th>Director3</th>\n",
       "      <th>Director4</th>\n",
       "      <th>Director5</th>\n",
       "    </tr>\n",
       "  </thead>\n",
       "  <tbody>\n",
       "    <tr>\n",
       "      <th>1</th>\n",
       "      <td>6270c51ffdcfb4792d78c40f</td>\n",
       "      <td>4154796</td>\n",
       "      <td>Avengers: Endgame</td>\n",
       "      <td>181.0</td>\n",
       "      <td>8.6</td>\n",
       "      <td>569782.0</td>\n",
       "      <td>PG-13</td>\n",
       "      <td>2019</td>\n",
       "      <td>4</td>\n",
       "      <td>22</td>\n",
       "      <td>...</td>\n",
       "      <td>NaN</td>\n",
       "      <td>2019-4-22</td>\n",
       "      <td>2.440274e+09</td>\n",
       "      <td>3</td>\n",
       "      <td>Joe Russo</td>\n",
       "      <td>NaN</td>\n",
       "      <td>NaN</td>\n",
       "      <td>NaN</td>\n",
       "      <td>NaN</td>\n",
       "      <td>NaN</td>\n",
       "    </tr>\n",
       "    <tr>\n",
       "      <th>9</th>\n",
       "      <td>6270c51ffdcfb4792d78c417</td>\n",
       "      <td>4154756</td>\n",
       "      <td>Avengers: Infinity War</td>\n",
       "      <td>149.0</td>\n",
       "      <td>8.5</td>\n",
       "      <td>712222.0</td>\n",
       "      <td>PG-13</td>\n",
       "      <td>2018</td>\n",
       "      <td>4</td>\n",
       "      <td>23</td>\n",
       "      <td>...</td>\n",
       "      <td>South Pictures</td>\n",
       "      <td>2018-4-23</td>\n",
       "      <td>1.727710e+09</td>\n",
       "      <td>4</td>\n",
       "      <td>Joe Russo</td>\n",
       "      <td>NaN</td>\n",
       "      <td>NaN</td>\n",
       "      <td>NaN</td>\n",
       "      <td>NaN</td>\n",
       "      <td>NaN</td>\n",
       "    </tr>\n",
       "    <tr>\n",
       "      <th>32</th>\n",
       "      <td>6270c51ffdcfb4792d78c42e</td>\n",
       "      <td>848228</td>\n",
       "      <td>The Avengers</td>\n",
       "      <td>143.0</td>\n",
       "      <td>8.0</td>\n",
       "      <td>1201420.0</td>\n",
       "      <td>TV-14</td>\n",
       "      <td>2012</td>\n",
       "      <td>4</td>\n",
       "      <td>11</td>\n",
       "      <td>...</td>\n",
       "      <td>NaN</td>\n",
       "      <td>2012-4-11</td>\n",
       "      <td>1.299558e+09</td>\n",
       "      <td>9</td>\n",
       "      <td>NaN</td>\n",
       "      <td>NaN</td>\n",
       "      <td>NaN</td>\n",
       "      <td>NaN</td>\n",
       "      <td>NaN</td>\n",
       "      <td>NaN</td>\n",
       "    </tr>\n",
       "    <tr>\n",
       "      <th>20</th>\n",
       "      <td>6270c51ffdcfb4792d78c422</td>\n",
       "      <td>1825683</td>\n",
       "      <td>Black Panther</td>\n",
       "      <td>134.0</td>\n",
       "      <td>7.3</td>\n",
       "      <td>543390.0</td>\n",
       "      <td>PG-13</td>\n",
       "      <td>2018</td>\n",
       "      <td>1</td>\n",
       "      <td>29</td>\n",
       "      <td>...</td>\n",
       "      <td>NaN</td>\n",
       "      <td>2018-1-29</td>\n",
       "      <td>1.147071e+09</td>\n",
       "      <td>4</td>\n",
       "      <td>NaN</td>\n",
       "      <td>NaN</td>\n",
       "      <td>NaN</td>\n",
       "      <td>NaN</td>\n",
       "      <td>NaN</td>\n",
       "      <td>NaN</td>\n",
       "    </tr>\n",
       "  </tbody>\n",
       "</table>\n",
       "<p>4 rows × 42 columns</p>\n",
       "</div>"
      ],
      "text/plain": [
       "                         _id       ID                   Title  Runtime  \\\n",
       "1   6270c51ffdcfb4792d78c40f  4154796       Avengers: Endgame    181.0   \n",
       "9   6270c51ffdcfb4792d78c417  4154756  Avengers: Infinity War    149.0   \n",
       "32  6270c51ffdcfb4792d78c42e   848228            The Avengers    143.0   \n",
       "20  6270c51ffdcfb4792d78c422  1825683           Black Panther    134.0   \n",
       "\n",
       "    Rating      Votes MPAARating ReleaseYear ReleaseMonth ReleaseDay  ...  \\\n",
       "1      8.6   569782.0      PG-13        2019            4         22  ...   \n",
       "9      8.5   712222.0      PG-13        2018            4         23  ...   \n",
       "32     8.0  1201420.0      TV-14        2012            4         11  ...   \n",
       "20     7.3   543390.0      PG-13        2018            1         29  ...   \n",
       "\n",
       "          Company3  Releasedate    NetRevenue sinceReleaseYears  Director2  \\\n",
       "1              NaN    2019-4-22  2.440274e+09                 3  Joe Russo   \n",
       "9   South Pictures    2018-4-23  1.727710e+09                 4  Joe Russo   \n",
       "32             NaN    2012-4-11  1.299558e+09                 9        NaN   \n",
       "20             NaN    2018-1-29  1.147071e+09                 4        NaN   \n",
       "\n",
       "   Company4 Company5 Director3 Director4 Director5  \n",
       "1       NaN      NaN       NaN       NaN       NaN  \n",
       "9       NaN      NaN       NaN       NaN       NaN  \n",
       "32      NaN      NaN       NaN       NaN       NaN  \n",
       "20      NaN      NaN       NaN       NaN       NaN  \n",
       "\n",
       "[4 rows x 42 columns]"
      ]
     },
     "execution_count": 59,
     "metadata": {},
     "output_type": "execute_result"
    }
   ],
   "source": [
    "df[df[\"OpeningWeekend\"]>200000000]"
   ]
  },
  {
   "cell_type": "markdown",
   "metadata": {},
   "source": [
    "### Q. How many hero movies were released in each month?"
   ]
  },
  {
   "cell_type": "code",
   "execution_count": 63,
   "metadata": {},
   "outputs": [
    {
     "data": {
      "text/plain": [
       "<AxesSubplot:xlabel='ReleaseMonth', ylabel='Count'>"
      ]
     },
     "execution_count": 63,
     "metadata": {},
     "output_type": "execute_result"
    },
    {
     "data": {
      "image/png": "[encoded data removed]",
      "text/plain": [
       "<Figure size 1152x648 with 1 Axes>"
      ]
     },
     "metadata": {},
     "output_type": "display_data"
    }
   ],
   "source": [
    "sns.histplot(data=df, x=\"ReleaseMonth\", bins=12)"
   ]
  },
  {
   "cell_type": "markdown",
   "metadata": {},
   "source": [
    "- Hero movies were released mainly in June, July, October, and December(mainly summer break and big holidy month)"
   ]
  },
  {
   "cell_type": "markdown",
   "metadata": {},
   "source": [
    "### Q. Need more budget for longer movie runtime?"
   ]
  },
  {
   "cell_type": "code",
   "execution_count": 65,
   "metadata": {},
   "outputs": [
    {
     "data": {
      "text/plain": [
       "<AxesSubplot:xlabel='Runtime', ylabel='Budget'>"
      ]
     },
     "execution_count": 65,
     "metadata": {},
     "output_type": "execute_result"
    },
    {
     "data": {
      "image/png": "[encoded data removed]",
      "text/plain": [
       "<Figure size 1152x648 with 1 Axes>"
      ]
     },
     "metadata": {},
     "output_type": "display_data"
    }
   ],
   "source": [
    "sns.scatterplot(x=\"Runtime\", y=\"Budget\", data=df)"
   ]
  },
  {
   "cell_type": "markdown",
   "metadata": {},
   "source": [
    "- It looks that Runtime and Budget do not associate.\n",
    "- Since there are some outlier. we need to remove ones and then check again.\n",
    "\n",
    "### From Eric Moskvin in the Discussion, \"This exercise reinforced for me the importance of not taking your initial findings at face value.\", I could chang first view of the data. It's a good example of the need to analyze data from an angle other than intuitive."
   ]
  },
  {
   "cell_type": "markdown",
   "metadata": {},
   "source": [
    "### From the professor's feedback, I need to check outliers to go deeper into data for getting insight."
   ]
  },
  {
   "cell_type": "code",
   "execution_count": 69,
   "metadata": {
    "scrolled": true
   },
   "outputs": [
    {
     "data": {
      "text/html": [
       "<div>\n",
       "<style scoped>\n",
       "    .dataframe tbody tr th:only-of-type {\n",
       "        vertical-align: middle;\n",
       "    }\n",
       "\n",
       "    .dataframe tbody tr th {\n",
       "        vertical-align: top;\n",
       "    }\n",
       "\n",
       "    .dataframe thead th {\n",
       "        text-align: right;\n",
       "    }\n",
       "</style>\n",
       "<table border=\"1\" class=\"dataframe\">\n",
       "  <thead>\n",
       "    <tr style=\"text-align: right;\">\n",
       "      <th></th>\n",
       "      <th>_id</th>\n",
       "      <th>ID</th>\n",
       "      <th>Title</th>\n",
       "      <th>Runtime</th>\n",
       "      <th>Rating</th>\n",
       "      <th>Votes</th>\n",
       "      <th>MPAARating</th>\n",
       "      <th>ReleaseYear</th>\n",
       "      <th>ReleaseMonth</th>\n",
       "      <th>ReleaseDay</th>\n",
       "      <th>...</th>\n",
       "      <th>Company3</th>\n",
       "      <th>Releasedate</th>\n",
       "      <th>NetRevenue</th>\n",
       "      <th>sinceReleaseYears</th>\n",
       "      <th>Director2</th>\n",
       "      <th>Company4</th>\n",
       "      <th>Company5</th>\n",
       "      <th>Director3</th>\n",
       "      <th>Director4</th>\n",
       "      <th>Director5</th>\n",
       "    </tr>\n",
       "  </thead>\n",
       "  <tbody>\n",
       "    <tr>\n",
       "      <th>247</th>\n",
       "      <td>6270c51ffdcfb4792d78c505</td>\n",
       "      <td>373786</td>\n",
       "      <td>Devilman</td>\n",
       "      <td>112.0</td>\n",
       "      <td>4.0</td>\n",
       "      <td>974.0</td>\n",
       "      <td>NaN</td>\n",
       "      <td>2004</td>\n",
       "      <td>10</td>\n",
       "      <td>9</td>\n",
       "      <td>...</td>\n",
       "      <td>Radgar</td>\n",
       "      <td>2004-10-9</td>\n",
       "      <td>NaN</td>\n",
       "      <td>17</td>\n",
       "      <td>NaN</td>\n",
       "      <td>TV Asahi</td>\n",
       "      <td>Toei Animation</td>\n",
       "      <td>NaN</td>\n",
       "      <td>NaN</td>\n",
       "      <td>NaN</td>\n",
       "    </tr>\n",
       "  </tbody>\n",
       "</table>\n",
       "<p>1 rows × 42 columns</p>\n",
       "</div>"
      ],
      "text/plain": [
       "                          _id      ID     Title  Runtime  Rating  Votes  \\\n",
       "247  6270c51ffdcfb4792d78c505  373786  Devilman    112.0     4.0  974.0   \n",
       "\n",
       "    MPAARating ReleaseYear ReleaseMonth ReleaseDay  ...  Company3  \\\n",
       "247        NaN        2004           10          9  ...    Radgar   \n",
       "\n",
       "     Releasedate  NetRevenue sinceReleaseYears Director2  Company4  \\\n",
       "247    2004-10-9         NaN                17       NaN  TV Asahi   \n",
       "\n",
       "           Company5 Director3 Director4 Director5  \n",
       "247  Toei Animation       NaN       NaN       NaN  \n",
       "\n",
       "[1 rows x 42 columns]"
      ]
     },
     "execution_count": 69,
     "metadata": {},
     "output_type": "execute_result"
    }
   ],
   "source": [
    "# Outlier1: the biggest bugeted movie\n",
    "df[df[\"Budget\"]>5000000000]"
   ]
  },
  {
   "cell_type": "markdown",
   "metadata": {},
   "source": [
    "![Devilman](https://upload.wikimedia.org/wikipedia/en/6/67/Devilman_Film_Poster.jpg)\n",
    "Devilman (デビルマン) is a 2004 Japanese superhero film directed by Hiroyuki Nasu.[1] It is based on the manga series of the same name.Devilman had a box office gross of 5,200 million yen, despite a production budget of 1 billion yen."
   ]
  },
  {
   "cell_type": "code",
   "execution_count": 71,
   "metadata": {},
   "outputs": [
    {
     "data": {
      "text/html": [
       "<div>\n",
       "<style scoped>\n",
       "    .dataframe tbody tr th:only-of-type {\n",
       "        vertical-align: middle;\n",
       "    }\n",
       "\n",
       "    .dataframe tbody tr th {\n",
       "        vertical-align: top;\n",
       "    }\n",
       "\n",
       "    .dataframe thead th {\n",
       "        text-align: right;\n",
       "    }\n",
       "</style>\n",
       "<table border=\"1\" class=\"dataframe\">\n",
       "  <thead>\n",
       "    <tr style=\"text-align: right;\">\n",
       "      <th></th>\n",
       "      <th>_id</th>\n",
       "      <th>ID</th>\n",
       "      <th>Title</th>\n",
       "      <th>Runtime</th>\n",
       "      <th>Rating</th>\n",
       "      <th>Votes</th>\n",
       "      <th>MPAARating</th>\n",
       "      <th>ReleaseYear</th>\n",
       "      <th>ReleaseMonth</th>\n",
       "      <th>ReleaseDay</th>\n",
       "      <th>...</th>\n",
       "      <th>Company3</th>\n",
       "      <th>Releasedate</th>\n",
       "      <th>NetRevenue</th>\n",
       "      <th>sinceReleaseYears</th>\n",
       "      <th>Director2</th>\n",
       "      <th>Company4</th>\n",
       "      <th>Company5</th>\n",
       "      <th>Director3</th>\n",
       "      <th>Director4</th>\n",
       "      <th>Director5</th>\n",
       "    </tr>\n",
       "  </thead>\n",
       "  <tbody>\n",
       "    <tr>\n",
       "      <th>313</th>\n",
       "      <td>6270c51ffdcfb4792d78c547</td>\n",
       "      <td>403687</td>\n",
       "      <td>WrestleMania XX</td>\n",
       "      <td>275.0</td>\n",
       "      <td>8.2</td>\n",
       "      <td>1647.0</td>\n",
       "      <td>TV-14</td>\n",
       "      <td>2004</td>\n",
       "      <td>3</td>\n",
       "      <td>14</td>\n",
       "      <td>...</td>\n",
       "      <td>NaN</td>\n",
       "      <td>2004-3-14</td>\n",
       "      <td>NaN</td>\n",
       "      <td>17</td>\n",
       "      <td>NaN</td>\n",
       "      <td>NaN</td>\n",
       "      <td>NaN</td>\n",
       "      <td>NaN</td>\n",
       "      <td>NaN</td>\n",
       "      <td>NaN</td>\n",
       "    </tr>\n",
       "  </tbody>\n",
       "</table>\n",
       "<p>1 rows × 42 columns</p>\n",
       "</div>"
      ],
      "text/plain": [
       "                          _id      ID            Title  Runtime  Rating  \\\n",
       "313  6270c51ffdcfb4792d78c547  403687  WrestleMania XX    275.0     8.2   \n",
       "\n",
       "      Votes MPAARating ReleaseYear ReleaseMonth ReleaseDay  ...  Company3  \\\n",
       "313  1647.0      TV-14        2004            3         14  ...       NaN   \n",
       "\n",
       "     Releasedate  NetRevenue sinceReleaseYears Director2 Company4 Company5  \\\n",
       "313    2004-3-14         NaN                17       NaN      NaN      NaN   \n",
       "\n",
       "    Director3 Director4 Director5  \n",
       "313       NaN       NaN       NaN  \n",
       "\n",
       "[1 rows x 42 columns]"
      ]
     },
     "execution_count": 71,
     "metadata": {},
     "output_type": "execute_result"
    }
   ],
   "source": [
    "# Outlier2: the longest runtime movie\n",
    "df[df[\"Runtime\"]>250]"
   ]
  },
  {
   "cell_type": "markdown",
   "metadata": {},
   "source": [
    "![WrestleMania XX](https://upload.wikimedia.org/wikipedia/en/b/b3/WrestleManiaXX.jpg)\n",
    "\n",
    "WrestleMania XX was the 20th annual WrestleMania professional wrestling pay-per-view (PPV) event produced by World Wrestling Entertainment (WWE). It was held for wrestlers from the promotion's Raw and SmackDown! brands divisions. (It looks like a show rather than a movie!)"
   ]
  },
  {
   "cell_type": "markdown",
   "metadata": {},
   "source": [
    "- Remove some outliers and simple regression.\n",
    "- Checked by Minitab for simple regression.(Budget cannot be predicted by movie runtime alone, but correlation can be confirmed.)\n",
    "- a positive correlation between budget and runtime is found.\n",
    "![](./image/minitab2.png)\n"
   ]
  },
  {
   "cell_type": "markdown",
   "metadata": {},
   "source": [
    "### Q. More budget more success?"
   ]
  },
  {
   "cell_type": "code",
   "execution_count": 73,
   "metadata": {},
   "outputs": [
    {
     "data": {
      "text/plain": [
       "<AxesSubplot:xlabel='Budget', ylabel='GrossSales'>"
      ]
     },
     "execution_count": 73,
     "metadata": {},
     "output_type": "execute_result"
    },
    {
     "data": {
      "image/png": "[encoded data removed]",
      "text/plain": [
       "<Figure size 1152x648 with 1 Axes>"
      ]
     },
     "metadata": {},
     "output_type": "display_data"
    }
   ],
   "source": [
    "sns.scatterplot(x=\"Budget\", y=\"GrossSales\", data=df)"
   ]
  },
  {
   "cell_type": "markdown",
   "metadata": {},
   "source": [
    "- Budget and Grossales had positive relation(looks like a curve)"
   ]
  },
  {
   "cell_type": "markdown",
   "metadata": {},
   "source": [
    "### Q. How important is the opening week to a movie?"
   ]
  },
  {
   "cell_type": "code",
   "execution_count": 79,
   "metadata": {},
   "outputs": [
    {
     "data": {
      "text/plain": [
       "<AxesSubplot:xlabel='OpeningWeekend', ylabel='GrossSales'>"
      ]
     },
     "execution_count": 79,
     "metadata": {},
     "output_type": "execute_result"
    },
    {
     "data": {
      "image/png": "[encoded data removed]",
      "text/plain": [
       "<Figure size 1152x648 with 1 Axes>"
      ]
     },
     "metadata": {},
     "output_type": "display_data"
    }
   ],
   "source": [
    "sns.scatterplot(x=\"OpeningWeekend\", y=\"GrossSales\", data=df)"
   ]
  },
  {
   "cell_type": "code",
   "execution_count": 85,
   "metadata": {},
   "outputs": [
    {
     "data": {
      "text/html": [
       "<div>\n",
       "<style scoped>\n",
       "    .dataframe tbody tr th:only-of-type {\n",
       "        vertical-align: middle;\n",
       "    }\n",
       "\n",
       "    .dataframe tbody tr th {\n",
       "        vertical-align: top;\n",
       "    }\n",
       "\n",
       "    .dataframe thead th {\n",
       "        text-align: right;\n",
       "    }\n",
       "</style>\n",
       "<table border=\"1\" class=\"dataframe\">\n",
       "  <thead>\n",
       "    <tr style=\"text-align: right;\">\n",
       "      <th></th>\n",
       "      <th>_id</th>\n",
       "      <th>ID</th>\n",
       "      <th>Title</th>\n",
       "      <th>Runtime</th>\n",
       "      <th>Rating</th>\n",
       "      <th>Votes</th>\n",
       "      <th>MPAARating</th>\n",
       "      <th>ReleaseYear</th>\n",
       "      <th>ReleaseMonth</th>\n",
       "      <th>ReleaseDay</th>\n",
       "      <th>...</th>\n",
       "      <th>Company3</th>\n",
       "      <th>Releasedate</th>\n",
       "      <th>NetRevenue</th>\n",
       "      <th>sinceReleaseYears</th>\n",
       "      <th>Director2</th>\n",
       "      <th>Company4</th>\n",
       "      <th>Company5</th>\n",
       "      <th>Director3</th>\n",
       "      <th>Director4</th>\n",
       "      <th>Director5</th>\n",
       "    </tr>\n",
       "  </thead>\n",
       "  <tbody>\n",
       "    <tr>\n",
       "      <th>1</th>\n",
       "      <td>6270c51ffdcfb4792d78c40f</td>\n",
       "      <td>4154796</td>\n",
       "      <td>Avengers: Endgame</td>\n",
       "      <td>181.0</td>\n",
       "      <td>8.6</td>\n",
       "      <td>569782.0</td>\n",
       "      <td>PG-13</td>\n",
       "      <td>2019</td>\n",
       "      <td>4</td>\n",
       "      <td>22</td>\n",
       "      <td>...</td>\n",
       "      <td>NaN</td>\n",
       "      <td>2019-4-22</td>\n",
       "      <td>2.440274e+09</td>\n",
       "      <td>3</td>\n",
       "      <td>Joe Russo</td>\n",
       "      <td>NaN</td>\n",
       "      <td>NaN</td>\n",
       "      <td>NaN</td>\n",
       "      <td>NaN</td>\n",
       "      <td>NaN</td>\n",
       "    </tr>\n",
       "  </tbody>\n",
       "</table>\n",
       "<p>1 rows × 42 columns</p>\n",
       "</div>"
      ],
      "text/plain": [
       "                        _id       ID              Title  Runtime  Rating  \\\n",
       "1  6270c51ffdcfb4792d78c40f  4154796  Avengers: Endgame    181.0     8.6   \n",
       "\n",
       "      Votes MPAARating ReleaseYear ReleaseMonth ReleaseDay  ...  Company3  \\\n",
       "1  569782.0      PG-13        2019            4         22  ...       NaN   \n",
       "\n",
       "   Releasedate    NetRevenue sinceReleaseYears  Director2 Company4 Company5  \\\n",
       "1    2019-4-22  2.440274e+09                 3  Joe Russo      NaN      NaN   \n",
       "\n",
       "  Director3 Director4 Director5  \n",
       "1       NaN       NaN       NaN  \n",
       "\n",
       "[1 rows x 42 columns]"
      ]
     },
     "execution_count": 85,
     "metadata": {},
     "output_type": "execute_result"
    }
   ],
   "source": [
    "df[df[\"OpeningWeekend\"]>350000000]"
   ]
  },
  {
   "cell_type": "markdown",
   "metadata": {},
   "source": [
    "- OpeningWeekend and GrossSales had positive linear relation.\n",
    "- The top openingWeeken and GrossSales movie is `Avengers: Endgame`."
   ]
  },
  {
   "cell_type": "code",
   "execution_count": 94,
   "metadata": {},
   "outputs": [
    {
     "data": {
      "text/html": [
       "<div>\n",
       "<style scoped>\n",
       "    .dataframe tbody tr th:only-of-type {\n",
       "        vertical-align: middle;\n",
       "    }\n",
       "\n",
       "    .dataframe tbody tr th {\n",
       "        vertical-align: top;\n",
       "    }\n",
       "\n",
       "    .dataframe thead th {\n",
       "        text-align: right;\n",
       "    }\n",
       "</style>\n",
       "<table border=\"1\" class=\"dataframe\">\n",
       "  <thead>\n",
       "    <tr style=\"text-align: right;\">\n",
       "      <th></th>\n",
       "      <th>_id</th>\n",
       "      <th>ID</th>\n",
       "      <th>Title</th>\n",
       "      <th>Runtime</th>\n",
       "      <th>Rating</th>\n",
       "      <th>Votes</th>\n",
       "      <th>MPAARating</th>\n",
       "      <th>ReleaseYear</th>\n",
       "      <th>ReleaseMonth</th>\n",
       "      <th>ReleaseDay</th>\n",
       "      <th>...</th>\n",
       "      <th>Company3</th>\n",
       "      <th>Releasedate</th>\n",
       "      <th>NetRevenue</th>\n",
       "      <th>sinceReleaseYears</th>\n",
       "      <th>Director2</th>\n",
       "      <th>Company4</th>\n",
       "      <th>Company5</th>\n",
       "      <th>Director3</th>\n",
       "      <th>Director4</th>\n",
       "      <th>Director5</th>\n",
       "    </tr>\n",
       "  </thead>\n",
       "  <tbody>\n",
       "    <tr>\n",
       "      <th>17</th>\n",
       "      <td>6270c51ffdcfb4792d78c41f</td>\n",
       "      <td>5463162</td>\n",
       "      <td>Deadpool 2</td>\n",
       "      <td>119.0</td>\n",
       "      <td>7.7</td>\n",
       "      <td>417211.0</td>\n",
       "      <td>R</td>\n",
       "      <td>2018</td>\n",
       "      <td>5</td>\n",
       "      <td>1</td>\n",
       "      <td>...</td>\n",
       "      <td>Kinberg Genre</td>\n",
       "      <td>2018-5-1</td>\n",
       "      <td>675046920.0</td>\n",
       "      <td>3</td>\n",
       "      <td>NaN</td>\n",
       "      <td>Maximum Effort</td>\n",
       "      <td>TSG Entertainment</td>\n",
       "      <td>NaN</td>\n",
       "      <td>NaN</td>\n",
       "      <td>NaN</td>\n",
       "    </tr>\n",
       "  </tbody>\n",
       "</table>\n",
       "<p>1 rows × 42 columns</p>\n",
       "</div>"
      ],
      "text/plain": [
       "                         _id       ID       Title  Runtime  Rating     Votes  \\\n",
       "17  6270c51ffdcfb4792d78c41f  5463162  Deadpool 2    119.0     7.7  417211.0   \n",
       "\n",
       "   MPAARating ReleaseYear ReleaseMonth ReleaseDay  ...       Company3  \\\n",
       "17          R        2018            5          1  ...  Kinberg Genre   \n",
       "\n",
       "    Releasedate   NetRevenue sinceReleaseYears Director2        Company4  \\\n",
       "17     2018-5-1  675046920.0                 3       NaN  Maximum Effort   \n",
       "\n",
       "             Company5 Director3 Director4 Director5  \n",
       "17  TSG Entertainment       NaN       NaN       NaN  \n",
       "\n",
       "[1 rows x 42 columns]"
      ]
     },
     "execution_count": 94,
     "metadata": {},
     "output_type": "execute_result"
    }
   ],
   "source": [
    "# Check the movie has low OpeningWeekend but high GrossSales.\n",
    "df.query('OpeningWeekend < 50000000 and GrossSales > 500000000')"
   ]
  },
  {
   "cell_type": "markdown",
   "metadata": {},
   "source": [
    "> ## Lesson and learned \n",
    "> - How to connect to MongoDB using Jupyter notebook.\n",
    "> - How to run aggregaion quearies in MongoDB.\n",
    "> - How to use seaborn\n",
    "> - How to use various chart forms by purpose.\n",
    "\n",
    "\n",
    "> - Significant growth has been observed in the hero film market since 1989. The movie's net profit increased over time. In particular, movies have had a very high net profit over the past five years. In the case of movies with a rating of 5 or higher, a positive correlation is found between the rating and net profit. Hero movies were released mainly in June, July, October, and December (looks mainly during summer vacation and holiday seasons). Runtime and budget did not seem to be associated, but after removing the outlier, a positive association was found. It is closely related to opening weekend and movie sales.\n"
   ]
  },
  {
   "cell_type": "code",
   "execution_count": null,
   "metadata": {},
   "outputs": [],
   "source": []
  }
 ],
 "metadata": {
  "interpreter": {
   "hash": "7036b1910ed5205ea8259d8a84eca28425a9ece5318a7843cd4a3fef4ba7aa2f"
  },
  "kernelspec": {
   "display_name": "Python 3 (ipykernel)",
   "language": "python",
   "name": "python3"
  },
  "language_info": {
   "codemirror_mode": {
    "name": "ipython",
    "version": 3
   },
   "file_extension": ".py",
   "mimetype": "text/x-python",
   "name": "python",
   "nbconvert_exporter": "python",
   "pygments_lexer": "ipython3",
   "version": "3.9.7"
  }
 },
 "nbformat": 4,
 "nbformat_minor": 2
}
